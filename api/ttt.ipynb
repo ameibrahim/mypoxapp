{
 "cells": [
  {
   "cell_type": "code",
   "execution_count": 3,
   "id": "ca3452e7",
   "metadata": {},
   "outputs": [
    {
     "name": "stdout",
     "output_type": "stream",
     "text": [
      "Name: tensorflow\n",
      "Version: 2.18.0\n",
      "Summary: TensorFlow is an open source machine learning framework for everyone.\n",
      "Home-page: https://www.tensorflow.org/\n",
      "Author: Google Inc.\n",
      "Author-email: packages@tensorflow.org\n",
      "License: Apache 2.0\n",
      "Location: /Users/ame/Library/Python/3.9/lib/python/site-packages\n",
      "Requires: protobuf, keras, six, numpy, termcolor, astunparse, libclang, packaging, tensorboard, grpcio, h5py, gast, opt-einsum, setuptools, ml-dtypes, requests, absl-py, google-pasta, flatbuffers, typing-extensions, wrapt, tensorflow-io-gcs-filesystem\n",
      "Required-by: tf_keras\n"
     ]
    }
   ],
   "source": [
    "!pip3 show tensorflow"
   ]
  },
  {
   "cell_type": "code",
   "execution_count": 4,
   "id": "31a2e4fa",
   "metadata": {},
   "outputs": [],
   "source": [
    "# Minimal local predictor: works with Keras 3 or tf.keras\n",
    "import json, numpy as np\n",
    "from PIL import Image\n",
    "\n",
    "# Try both loaders\n",
    "_use_keras_loader = None\n",
    "try:\n",
    "    import keras  # Keras 3\n",
    "    _KERAS_VERSION = getattr(keras, \"__version__\", \"unknown\")\n",
    "except Exception:\n",
    "    keras = None\n",
    "    _KERAS_VERSION = None\n",
    "\n",
    "import tensorflow as tf\n",
    "from tensorflow.keras.preprocessing import image as tf_image\n",
    "_TF_VERSION = tf.__version__\n",
    "\n",
    "# Labels (adjust if yours differ)\n",
    "CLASS_LABELS = {0: 'acne', 1: 'chickenpox', 2: 'monkeypox', 3: 'non-skin', 4: 'normal'}\n",
    "\n",
    "def load_any_model(path: str):\n",
    "    global _use_keras_loader\n",
    "    if keras is not None:\n",
    "        try:\n",
    "            m = keras.saving.load_model(path, compile=False, safe_mode=False)\n",
    "            _use_keras_loader = \"keras\"\n",
    "            return m\n",
    "        except Exception as e:\n",
    "            print(f\"[warn] Keras loader failed: {e}\")\n",
    "    try:\n",
    "        from tensorflow import keras as tfk\n",
    "        m = tfk.models.load_model(path, compile=False)\n",
    "        _use_keras_loader = \"tf.keras\"\n",
    "        return m\n",
    "    except Exception as e:\n",
    "        raise RuntimeError(f\"Failed to load model with keras and tf.keras: {e}\")\n",
    "\n",
    "def preprocess_image(pil_image: Image.Image, size: int) -> np.ndarray:\n",
    "    pil_image = pil_image.convert(\"RGB\")\n",
    "    img = pil_image.resize((size, size), Image.Resampling.LANCZOS)\n",
    "    arr = tf_image.img_to_array(img, dtype=np.uint8)\n",
    "    arr = arr / 255.0\n",
    "    return np.expand_dims(arr, axis=0)  # (1, H, W, 3)\n",
    "\n",
    "def predict_local(model_path: str, image_path: str, size: int = 300):\n",
    "    model = load_any_model(model_path)\n",
    "    pil_img = Image.open(image_path)\n",
    "    x = preprocess_image(pil_img, size)\n",
    "\n",
    "    preds = model.predict(x)\n",
    "    if isinstance(preds, (list, tuple)):\n",
    "        preds = preds[0]\n",
    "    probs = preds[0] if preds.ndim == 2 else preds\n",
    "    if probs.ndim != 1:\n",
    "        raise ValueError(f\"Expected 1D probabilities, got {probs.shape}\")\n",
    "\n",
    "    idx = int(np.argmax(probs))\n",
    "    result = {\n",
    "        \"predicted_class\": CLASS_LABELS.get(idx, str(idx)),\n",
    "        \"max_prob\": float(np.max(probs)),\n",
    "        \"class_probabilities\": {CLASS_LABELS.get(i, str(i)): float(round(p*100, 2)) for i, p in enumerate(probs)},\n",
    "        \"env\": {\"loader\": _use_keras_loader, \"keras_version\": _KERAS_VERSION, \"tensorflow_version\": _TF_VERSION}\n",
    "    }\n",
    "    return result"
   ]
  },
  {
   "cell_type": "code",
   "execution_count": 9,
   "id": "36e4e717",
   "metadata": {},
   "outputs": [
    {
     "name": "stdout",
     "output_type": "stream",
     "text": [
      "\u001b[1m1/1\u001b[0m \u001b[32m━━━━━━━━━━━━━━━━━━━━\u001b[0m\u001b[37m\u001b[0m \u001b[1m1s\u001b[0m 1s/step\n",
      "{\n",
      "  \"predicted_class\": \"non-skin\",\n",
      "  \"max_prob\": 0.9989346861839294,\n",
      "  \"class_probabilities\": {\n",
      "    \"acne\": 0.009999999776482582,\n",
      "    \"chickenpox\": 0.009999999776482582,\n",
      "    \"monkeypox\": 0.07000000029802322,\n",
      "    \"non-skin\": 99.88999938964844,\n",
      "    \"normal\": 0.019999999552965164\n",
      "  },\n",
      "  \"env\": {\n",
      "    \"loader\": \"keras\",\n",
      "    \"keras_version\": \"3.8.0\",\n",
      "    \"tensorflow_version\": \"2.18.0\"\n",
      "  }\n",
      "}\n"
     ]
    }
   ],
   "source": [
    "# Set your local paths\n",
    "IMAGE_PATH = \"./uploads/sample.png\"                # <-- change me\n",
    "MODEL_PATH = \"../models/model_10-0.92.keras\"       # <-- change me\n",
    "SIZE = 300                                         # per your model\n",
    "\n",
    "out = predict_local(MODEL_PATH, IMAGE_PATH, SIZE)\n",
    "print(json.dumps(out, indent=2))"
   ]
  }
 ],
 "metadata": {
  "kernelspec": {
   "display_name": "Python 3",
   "language": "python",
   "name": "python3"
  },
  "language_info": {
   "codemirror_mode": {
    "name": "ipython",
    "version": 3
   },
   "file_extension": ".py",
   "mimetype": "text/x-python",
   "name": "python",
   "nbconvert_exporter": "python",
   "pygments_lexer": "ipython3",
   "version": "3.9.6"
  }
 },
 "nbformat": 4,
 "nbformat_minor": 5
}
